{
  "nbformat": 4,
  "nbformat_minor": 0,
  "metadata": {
    "colab": {
      "provenance": [],
      "authorship_tag": "ABX9TyN6g2HQr7A9vtB0Mhu/28CR",
      "include_colab_link": true
    },
    "kernelspec": {
      "name": "python3",
      "display_name": "Python 3"
    },
    "language_info": {
      "name": "python"
    }
  },
  "cells": [
    {
      "cell_type": "markdown",
      "metadata": {
        "id": "view-in-github",
        "colab_type": "text"
      },
      "source": [
        "<a href=\"https://colab.research.google.com/github/burakerdal66/Makine_Ogrenmesi_Projeleri/blob/main/sahteHaberTespiti.ipynb\" target=\"_parent\"><img src=\"https://colab.research.google.com/assets/colab-badge.svg\" alt=\"Open In Colab\"/></a>"
      ]
    },
    {
      "cell_type": "markdown",
      "source": [
        "**İŞ AKIŞI:**\n",
        "\n",
        "\n",
        "1.   Haber Verilerinin alınması\n",
        "2.   Verilerin Ön işlenmesi(PreProcessing)\n",
        "3. Verileri eğitim ve test olarak bölme\n",
        "4. Önceden işlenmiş verileri *lojistik regresyon* ile sınıflandırma yapacağız.\n",
        "5. Eğitim verilerini kullandıktan sonra bu test verilerinde doğruluk değerini buluyoruz. Doğruluk değerine göre de gerçek mi sahte mi olduğunu anlıyoruz.\n",
        "\n",
        "\n",
        "```\n",
        "Şimdi Kodlamaya Geçelim\n",
        "1: Sahte Haber 0: Gerçek Habere\n",
        "```\n",
        "\n",
        "\n"
      ],
      "metadata": {
        "id": "Hg3D-AfwiM1E"
      }
    },
    {
      "cell_type": "code",
      "source": [
        "#Bağımlılıkların içe aktarılması: İmporting the Dependencies\n",
        "import numpy as np\n",
        "import pandas as pd\n",
        "import re #Düzenli ifadeler (Regular experions kullanmamızı sağlar)\n",
        "from nltk.corpus import stopwords #Doğal Dil araç kitini ekleme.\n",
        "from nltk.stem.porter import PorterStemmer # bir kelimeyi alır ve onun ön-son ekini kaldırır.\n",
        "from sklearn.feature_extraction.text import TfidfVectorizer # metinsel verilerin sayısal verilere çevrilmesinde rol oynar.\n",
        "from sklearn.model_selection import train_test_split # verileri eğitim ve test olarak bölmemizi sağlar.\n",
        "from sklearn.linear_model import LogisticRegression # Makine öğrenmesi algoritmalarından lojistik regresyonu çağırır.\n",
        "from sklearn.metrics import accuracy_score # Doğruluk değerini bulmak için kullanırız.\n"
      ],
      "metadata": {
        "id": "3cTOtHd2jsIb"
      },
      "execution_count": null,
      "outputs": []
    },
    {
      "cell_type": "code",
      "source": [
        "import nltk\n",
        "nltk.download('stopwords')"
      ],
      "metadata": {
        "colab": {
          "base_uri": "https://localhost:8080/"
        },
        "id": "Gh2a-Mr0rVE2",
        "outputId": "bffbe450-5a37-434a-887e-df19062cb49c"
      },
      "execution_count": null,
      "outputs": [
        {
          "output_type": "stream",
          "name": "stderr",
          "text": [
            "[nltk_data] Downloading package stopwords to /root/nltk_data...\n",
            "[nltk_data]   Package stopwords is already up-to-date!\n"
          ]
        },
        {
          "output_type": "execute_result",
          "data": {
            "text/plain": [
              "True"
            ]
          },
          "metadata": {},
          "execution_count": 12
        }
      ]
    },
    {
      "cell_type": "code",
      "source": [
        "#İngilizce için engellenecek kelimeleri yazdırma.\n",
        "#Printing the stopwords in English\n",
        "print(stopwords.words('english'))"
      ],
      "metadata": {
        "colab": {
          "base_uri": "https://localhost:8080/"
        },
        "id": "RjK95yS4rnvz",
        "outputId": "bc8687b1-6ac6-4840-e1bf-860a6f426c9e"
      },
      "execution_count": null,
      "outputs": [
        {
          "output_type": "stream",
          "name": "stdout",
          "text": [
            "['i', 'me', 'my', 'myself', 'we', 'our', 'ours', 'ourselves', 'you', \"you're\", \"you've\", \"you'll\", \"you'd\", 'your', 'yours', 'yourself', 'yourselves', 'he', 'him', 'his', 'himself', 'she', \"she's\", 'her', 'hers', 'herself', 'it', \"it's\", 'its', 'itself', 'they', 'them', 'their', 'theirs', 'themselves', 'what', 'which', 'who', 'whom', 'this', 'that', \"that'll\", 'these', 'those', 'am', 'is', 'are', 'was', 'were', 'be', 'been', 'being', 'have', 'has', 'had', 'having', 'do', 'does', 'did', 'doing', 'a', 'an', 'the', 'and', 'but', 'if', 'or', 'because', 'as', 'until', 'while', 'of', 'at', 'by', 'for', 'with', 'about', 'against', 'between', 'into', 'through', 'during', 'before', 'after', 'above', 'below', 'to', 'from', 'up', 'down', 'in', 'out', 'on', 'off', 'over', 'under', 'again', 'further', 'then', 'once', 'here', 'there', 'when', 'where', 'why', 'how', 'all', 'any', 'both', 'each', 'few', 'more', 'most', 'other', 'some', 'such', 'no', 'nor', 'not', 'only', 'own', 'same', 'so', 'than', 'too', 'very', 's', 't', 'can', 'will', 'just', 'don', \"don't\", 'should', \"should've\", 'now', 'd', 'll', 'm', 'o', 're', 've', 'y', 'ain', 'aren', \"aren't\", 'couldn', \"couldn't\", 'didn', \"didn't\", 'doesn', \"doesn't\", 'hadn', \"hadn't\", 'hasn', \"hasn't\", 'haven', \"haven't\", 'isn', \"isn't\", 'ma', 'mightn', \"mightn't\", 'mustn', \"mustn't\", 'needn', \"needn't\", 'shan', \"shan't\", 'shouldn', \"shouldn't\", 'wasn', \"wasn't\", 'weren', \"weren't\", 'won', \"won't\", 'wouldn', \"wouldn't\"]\n"
          ]
        }
      ]
    },
    {
      "cell_type": "markdown",
      "source": [
        "Data preprocessing\n",
        "\n",
        "Veri Önişleme\n"
      ],
      "metadata": {
        "id": "9gRg6MFKs6HY"
      }
    },
    {
      "cell_type": "code",
      "source": [
        "# Veri setini bir pandas veri çerçevesine olarak yüklemek:\n",
        "# Loading to a pandas dataframe of dataset\n",
        "news_dataset=pd.read_csv('/content/train.csv') #Veri setinin yüklenmesi"
      ],
      "metadata": {
        "id": "N0_TW6jJtCPl"
      },
      "execution_count": null,
      "outputs": []
    },
    {
      "cell_type": "code",
      "source": [
        "news_dataset.shape #Veri setinin boyutunu gösterir"
      ],
      "metadata": {
        "colab": {
          "base_uri": "https://localhost:8080/"
        },
        "id": "3FLqjdLKt66y",
        "outputId": "f5a9ee29-3a8d-472d-c0ad-e777b07a8fb7"
      },
      "execution_count": null,
      "outputs": [
        {
          "output_type": "execute_result",
          "data": {
            "text/plain": [
              "(20800, 5)"
            ]
          },
          "metadata": {},
          "execution_count": 19
        }
      ]
    },
    {
      "cell_type": "code",
      "source": [
        "# veriçerçevesinin ilk 5 satırını yazdırma\n",
        "#print the first 5 rows of the dataframe\n",
        "news_dataset.head()\n",
        "#Label olan etiketteki 1 ler sahte haber, 0 lar gerçek haberlerdir."
      ],
      "metadata": {
        "id": "OoQo_oGjuAa3"
      },
      "execution_count": null,
      "outputs": []
    },
    {
      "cell_type": "code",
      "source": [
        "#veri setindeki eksik değerlerin sayısını saydırma\n",
        "#counting the number of missing values in dataset\n",
        "news_dataset.isnull().sum()"
      ],
      "metadata": {
        "colab": {
          "base_uri": "https://localhost:8080/"
        },
        "id": "lsBNkxqluRBe",
        "outputId": "fa655d46-5ad9-4fc8-c82c-e124487bc901"
      },
      "execution_count": null,
      "outputs": [
        {
          "output_type": "execute_result",
          "data": {
            "text/plain": [
              "id           0\n",
              "title      558\n",
              "author    1957\n",
              "text        39\n",
              "label        0\n",
              "dtype: int64"
            ]
          },
          "metadata": {},
          "execution_count": 21
        }
      ]
    },
    {
      "cell_type": "markdown",
      "source": [
        "EĞER KÜÇÜK BİR VERİ SETİ VARSA YUKARIDAKİ KAYIP DEĞERLERİNİ SİLME İŞLEMİNİ YAPMAK DOĞRU OLMAZ ÇÜNKÜ VERİLER AZ OLDUĞUNDAN İYİ TAHMİNLEME YAPILAMAZ."
      ],
      "metadata": {
        "id": "qGc15FcB3bIe"
      }
    },
    {
      "cell_type": "code",
      "source": [
        "# boş değerleri boş dize ile değiştirmek\n",
        "#replacing the null values with empty string\n",
        "news_dataset= news_dataset.fillna('')"
      ],
      "metadata": {
        "id": "JrUhcDyd3mjW"
      },
      "execution_count": null,
      "outputs": []
    },
    {
      "cell_type": "code",
      "source": [
        "# Başlık sütunun ile yazar sütununu birleştirme.\n",
        "# merging the title columnn and author column\n",
        "news_dataset['content']= news_dataset['author']+' -> '+news_dataset['title']"
      ],
      "metadata": {
        "id": "u7mwiFTd4FMr"
      },
      "execution_count": null,
      "outputs": []
    },
    {
      "cell_type": "code",
      "source": [
        "print(news_dataset['content'])"
      ],
      "metadata": {
        "colab": {
          "base_uri": "https://localhost:8080/"
        },
        "id": "ZN_jLlmF6b1H",
        "outputId": "48ab1e87-5708-43df-be03-4c32f69277d8"
      },
      "execution_count": null,
      "outputs": [
        {
          "output_type": "stream",
          "name": "stdout",
          "text": [
            "0        Darrell Lucus -> House Dem Aide: We Didn’t Eve...\n",
            "1        Daniel J. Flynn -> FLYNN: Hillary Clinton, Big...\n",
            "2        Consortiumnews.com -> Why the Truth Might Get ...\n",
            "3        Jessica Purkiss -> 15 Civilians Killed In Sing...\n",
            "4        Howard Portnoy -> Iranian woman jailed for fic...\n",
            "                               ...                        \n",
            "20795    Jerome Hudson -> Rapper T.I.: Trump a ’Poster ...\n",
            "20796    Benjamin Hoffman -> N.F.L. Playoffs: Schedule,...\n",
            "20797    Michael J. de la Merced and Rachel Abrams -> M...\n",
            "20798    Alex Ansary -> NATO, Russia To Hold Parallel E...\n",
            "20799           David Swanson -> What Keeps the F-35 Alive\n",
            "Name: content, Length: 20800, dtype: object\n"
          ]
        }
      ]
    },
    {
      "cell_type": "code",
      "source": [
        "# verileri ve etiketleri(Çıktıları) ayrmak\n",
        "# seperate the data and label\n",
        "X= news_dataset.drop(columns='label', axis=1) #sütunlardan \"label\" ismini kaldırır.\n",
        "Y= news_dataset['label']"
      ],
      "metadata": {
        "id": "2WRl0pry6xqJ"
      },
      "execution_count": null,
      "outputs": []
    },
    {
      "cell_type": "code",
      "source": [
        "print(X,\"--------\")\n",
        "print(Y)"
      ],
      "metadata": {
        "id": "wzO6B8qm7cq8"
      },
      "execution_count": null,
      "outputs": []
    },
    {
      "cell_type": "markdown",
      "source": [
        "Stemming:\n",
        "Stemming, Bir kelimeyi kök kelimesine indirgeme işlemidir. Kelimedeki Önek ve sonek leri kaldırır.\n",
        "\n",
        "örnek: actor,actress,acting --> act"
      ],
      "metadata": {
        "id": "4d7Bbh2V8B_v"
      }
    },
    {
      "cell_type": "code",
      "source": [
        "port_stem=PorterStemmer()"
      ],
      "metadata": {
        "id": "xLtrxlC98IV1"
      },
      "execution_count": null,
      "outputs": []
    },
    {
      "cell_type": "code",
      "source": [
        "def stemming(content):\n",
        "  stemmed_content=re.sub('[^a-zA-Z]',' ',content)\n",
        "  stemmed_content=stemmed_content.lower()\n",
        "  stemmed_content=stemmed_content.split()\n",
        "  stemmed_content=[port_stem.stem(word) for word in stemmed_content if not word in stopwords.words('english')]\n",
        "  stemmed_content=' '.join(stemmed_content)\n",
        "  return stemmed_content\n",
        "  \"\"\"\n",
        "  def ile tanımlanan fonksiyona stemmer(kök oluşturma) anlamında bir işlev verdik\n",
        "  daha sonrar girdi değerlerimizi content(içerik) olarak verdik. sonra düzenli ifadeler kütüphanesi çağrıldı (sub). alfabede olmayan değerler kaldırıldı.\n",
        "  alfabe ve kelimeler dışındakiler kaldırıldıktan sonra \" \" ile bunların yerini boşluk işe doldur.\n",
        "  daha sonrar lower ile tüm kelimeleri küçük harfe çevir.\n",
        "  split ile hepsi bölünerek küçük listelere dönüştürülüyor.\n",
        "  daha sonra kök çıkarma fonksiyonunu çağırıyoruz.  önemsiz kelimeleri(stopwords) kaldırıyoruz.\n",
        "  daha sonra tüm kelimeleri birleştiriyoruz.\n",
        "  en sonunda işlenmiş veriyi döndürüyoruz.\n",
        "   \"\"\""
      ],
      "metadata": {
        "id": "bku3CNM7-OIE"
      },
      "execution_count": null,
      "outputs": []
    },
    {
      "cell_type": "code",
      "source": [
        "news_dataset[\"content\"] = news_dataset[\"content\"].apply(stemming)"
      ],
      "metadata": {
        "id": "20Teu5eRAyss"
      },
      "execution_count": null,
      "outputs": []
    },
    {
      "cell_type": "code",
      "source": [
        "print(news_dataset[\"content\"])"
      ],
      "metadata": {
        "colab": {
          "base_uri": "https://localhost:8080/"
        },
        "id": "Kh3wWIiiB5rc",
        "outputId": "e5e203a3-092c-4f1e-af9b-4c8b53ffe856"
      },
      "execution_count": null,
      "outputs": [
        {
          "output_type": "stream",
          "name": "stdout",
          "text": [
            "0        darrel lucu hous dem aid even see comey letter...\n",
            "1        daniel j flynn flynn hillari clinton big woman...\n",
            "2                   consortiumnew com truth might get fire\n",
            "3        jessica purkiss civilian kill singl us airstri...\n",
            "4        howard portnoy iranian woman jail fiction unpu...\n",
            "                               ...                        \n",
            "20795    jerom hudson rapper trump poster child white s...\n",
            "20796    benjamin hoffman n f l playoff schedul matchup...\n",
            "20797    michael j de la merc rachel abram maci said re...\n",
            "20798    alex ansari nato russia hold parallel exercis ...\n",
            "20799                            david swanson keep f aliv\n",
            "Name: content, Length: 20800, dtype: object\n"
          ]
        }
      ]
    },
    {
      "cell_type": "code",
      "source": [
        "# data ve labelleri ayırmak\n",
        "# seperate the data and label\n",
        "X= news_dataset['content'].values\n",
        "Y= news_dataset['label'].values # sonuç değerleri"
      ],
      "metadata": {
        "id": "GMmvw0-4EOkO"
      },
      "execution_count": null,
      "outputs": []
    },
    {
      "cell_type": "code",
      "source": [
        "print(X)\n",
        "print(Y)"
      ],
      "metadata": {
        "colab": {
          "base_uri": "https://localhost:8080/"
        },
        "id": "hQ5uIq77FABy",
        "outputId": "ff411193-ae4b-44a0-9990-212cd44e45c6"
      },
      "execution_count": null,
      "outputs": [
        {
          "output_type": "stream",
          "name": "stdout",
          "text": [
            "['darrel lucu hous dem aid even see comey letter jason chaffetz tweet'\n",
            " 'daniel j flynn flynn hillari clinton big woman campu breitbart'\n",
            " 'consortiumnew com truth might get fire' ...\n",
            " 'michael j de la merc rachel abram maci said receiv takeov approach hudson bay new york time'\n",
            " 'alex ansari nato russia hold parallel exercis balkan'\n",
            " 'david swanson keep f aliv']\n",
            "[1 0 1 ... 0 1 1]\n"
          ]
        }
      ]
    },
    {
      "cell_type": "code",
      "source": [
        "Y.shape"
      ],
      "metadata": {
        "colab": {
          "base_uri": "https://localhost:8080/"
        },
        "id": "xJgkBw7QFPOO",
        "outputId": "60ca2b1e-f02d-4e76-eb37-5611e7221feb"
      },
      "execution_count": null,
      "outputs": [
        {
          "output_type": "execute_result",
          "data": {
            "text/plain": [
              "(20800,)"
            ]
          },
          "metadata": {},
          "execution_count": 53
        }
      ]
    },
    {
      "cell_type": "code",
      "source": [
        "# metinsel verileri sayısal verilere dönüştürme.\n",
        "# converting the textual data to numerical data\n",
        "vectorizer=TfidfVectorizer()\n",
        "vectorizer.fit(X)\n",
        "X=vectorizer.transform(X)\n",
        "#"
      ],
      "metadata": {
        "id": "R-A0jVLHFQgU"
      },
      "execution_count": null,
      "outputs": []
    },
    {
      "cell_type": "code",
      "source": [
        "print(X)"
      ],
      "metadata": {
        "colab": {
          "base_uri": "https://localhost:8080/"
        },
        "id": "O6-2H0-_SqkT",
        "outputId": "5ec58b2d-f816-4eda-de02-92b6e732c797"
      },
      "execution_count": null,
      "outputs": [
        {
          "output_type": "stream",
          "name": "stdout",
          "text": [
            "  (0, 15686)\t0.28485063562728646\n",
            "  (0, 13473)\t0.2565896679337957\n",
            "  (0, 8909)\t0.3635963806326075\n",
            "  (0, 8630)\t0.29212514087043684\n",
            "  (0, 7692)\t0.24785219520671603\n",
            "  (0, 7005)\t0.21874169089359144\n",
            "  (0, 4973)\t0.233316966909351\n",
            "  (0, 3792)\t0.2705332480845492\n",
            "  (0, 3600)\t0.3598939188262559\n",
            "  (0, 2959)\t0.2468450128533713\n",
            "  (0, 2483)\t0.3676519686797209\n",
            "  (0, 267)\t0.27010124977708766\n",
            "  (1, 16799)\t0.30071745655510157\n",
            "  (1, 6816)\t0.1904660198296849\n",
            "  (1, 5503)\t0.7143299355715573\n",
            "  (1, 3568)\t0.26373768806048464\n",
            "  (1, 2813)\t0.19094574062359204\n",
            "  (1, 2223)\t0.3827320386859759\n",
            "  (1, 1894)\t0.15521974226349364\n",
            "  (1, 1497)\t0.2939891562094648\n",
            "  (2, 15611)\t0.41544962664721613\n",
            "  (2, 9620)\t0.49351492943649944\n",
            "  (2, 5968)\t0.3474613386728292\n",
            "  (2, 5389)\t0.3866530551182615\n",
            "  (2, 3103)\t0.46097489583229645\n",
            "  :\t:\n",
            "  (20797, 13122)\t0.2482526352197606\n",
            "  (20797, 12344)\t0.27263457663336677\n",
            "  (20797, 12138)\t0.24778257724396507\n",
            "  (20797, 10306)\t0.08038079000566466\n",
            "  (20797, 9588)\t0.174553480255222\n",
            "  (20797, 9518)\t0.2954204003420313\n",
            "  (20797, 8988)\t0.36160868928090795\n",
            "  (20797, 8364)\t0.22322585870464118\n",
            "  (20797, 7042)\t0.21799048897828688\n",
            "  (20797, 3643)\t0.21155500613623743\n",
            "  (20797, 1287)\t0.33538056804139865\n",
            "  (20797, 699)\t0.30685846079762347\n",
            "  (20797, 43)\t0.29710241860700626\n",
            "  (20798, 13046)\t0.22363267488270608\n",
            "  (20798, 11052)\t0.4460515589182236\n",
            "  (20798, 10177)\t0.3192496370187028\n",
            "  (20798, 6889)\t0.32496285694299426\n",
            "  (20798, 5032)\t0.4083701450239529\n",
            "  (20798, 1125)\t0.4460515589182236\n",
            "  (20798, 588)\t0.3112141524638974\n",
            "  (20798, 350)\t0.28446937819072576\n",
            "  (20799, 14852)\t0.5677577267055112\n",
            "  (20799, 8036)\t0.45983893273780013\n",
            "  (20799, 3623)\t0.37927626273066584\n",
            "  (20799, 377)\t0.5677577267055112\n"
          ]
        }
      ]
    },
    {
      "cell_type": "markdown",
      "source": [
        "Dataseti eğitim ve test verileri olarak bölmek:\n",
        "\n",
        "Splitting the dataset to train and test data"
      ],
      "metadata": {
        "id": "DsbTZV8jS4ws"
      }
    },
    {
      "cell_type": "code",
      "source": [
        "X_train,X_test,Y_train,Y_test = train_test_split(X,Y,test_size=0.2,stratify=Y,random_state=2)"
      ],
      "metadata": {
        "id": "j-OUYeN-S8d6"
      },
      "execution_count": null,
      "outputs": []
    },
    {
      "cell_type": "markdown",
      "source": [
        "Lojistik regresyon ile Model Eğitimi\n",
        "\n",
        "Training model with logistic regression"
      ],
      "metadata": {
        "id": "0IGCQCKmT7Bd"
      }
    },
    {
      "cell_type": "code",
      "source": [
        "model=LogisticRegression()"
      ],
      "metadata": {
        "id": "VW9DsN7cTX7a"
      },
      "execution_count": null,
      "outputs": []
    },
    {
      "cell_type": "code",
      "source": [
        "model.fit(X_train,Y_train)"
      ],
      "metadata": {
        "colab": {
          "base_uri": "https://localhost:8080/",
          "height": 51
        },
        "id": "nR3HK79vV_zm",
        "outputId": "e606d92d-5fc2-431e-b39f-f8d71350ae19"
      },
      "execution_count": null,
      "outputs": [
        {
          "output_type": "execute_result",
          "data": {
            "text/plain": [
              "LogisticRegression()"
            ],
            "text/html": [
              "<style>#sk-container-id-1 {color: black;background-color: white;}#sk-container-id-1 pre{padding: 0;}#sk-container-id-1 div.sk-toggleable {background-color: white;}#sk-container-id-1 label.sk-toggleable__label {cursor: pointer;display: block;width: 100%;margin-bottom: 0;padding: 0.3em;box-sizing: border-box;text-align: center;}#sk-container-id-1 label.sk-toggleable__label-arrow:before {content: \"▸\";float: left;margin-right: 0.25em;color: #696969;}#sk-container-id-1 label.sk-toggleable__label-arrow:hover:before {color: black;}#sk-container-id-1 div.sk-estimator:hover label.sk-toggleable__label-arrow:before {color: black;}#sk-container-id-1 div.sk-toggleable__content {max-height: 0;max-width: 0;overflow: hidden;text-align: left;background-color: #f0f8ff;}#sk-container-id-1 div.sk-toggleable__content pre {margin: 0.2em;color: black;border-radius: 0.25em;background-color: #f0f8ff;}#sk-container-id-1 input.sk-toggleable__control:checked~div.sk-toggleable__content {max-height: 200px;max-width: 100%;overflow: auto;}#sk-container-id-1 input.sk-toggleable__control:checked~label.sk-toggleable__label-arrow:before {content: \"▾\";}#sk-container-id-1 div.sk-estimator input.sk-toggleable__control:checked~label.sk-toggleable__label {background-color: #d4ebff;}#sk-container-id-1 div.sk-label input.sk-toggleable__control:checked~label.sk-toggleable__label {background-color: #d4ebff;}#sk-container-id-1 input.sk-hidden--visually {border: 0;clip: rect(1px 1px 1px 1px);clip: rect(1px, 1px, 1px, 1px);height: 1px;margin: -1px;overflow: hidden;padding: 0;position: absolute;width: 1px;}#sk-container-id-1 div.sk-estimator {font-family: monospace;background-color: #f0f8ff;border: 1px dotted black;border-radius: 0.25em;box-sizing: border-box;margin-bottom: 0.5em;}#sk-container-id-1 div.sk-estimator:hover {background-color: #d4ebff;}#sk-container-id-1 div.sk-parallel-item::after {content: \"\";width: 100%;border-bottom: 1px solid gray;flex-grow: 1;}#sk-container-id-1 div.sk-label:hover label.sk-toggleable__label {background-color: #d4ebff;}#sk-container-id-1 div.sk-serial::before {content: \"\";position: absolute;border-left: 1px solid gray;box-sizing: border-box;top: 0;bottom: 0;left: 50%;z-index: 0;}#sk-container-id-1 div.sk-serial {display: flex;flex-direction: column;align-items: center;background-color: white;padding-right: 0.2em;padding-left: 0.2em;position: relative;}#sk-container-id-1 div.sk-item {position: relative;z-index: 1;}#sk-container-id-1 div.sk-parallel {display: flex;align-items: stretch;justify-content: center;background-color: white;position: relative;}#sk-container-id-1 div.sk-item::before, #sk-container-id-1 div.sk-parallel-item::before {content: \"\";position: absolute;border-left: 1px solid gray;box-sizing: border-box;top: 0;bottom: 0;left: 50%;z-index: -1;}#sk-container-id-1 div.sk-parallel-item {display: flex;flex-direction: column;z-index: 1;position: relative;background-color: white;}#sk-container-id-1 div.sk-parallel-item:first-child::after {align-self: flex-end;width: 50%;}#sk-container-id-1 div.sk-parallel-item:last-child::after {align-self: flex-start;width: 50%;}#sk-container-id-1 div.sk-parallel-item:only-child::after {width: 0;}#sk-container-id-1 div.sk-dashed-wrapped {border: 1px dashed gray;margin: 0 0.4em 0.5em 0.4em;box-sizing: border-box;padding-bottom: 0.4em;background-color: white;}#sk-container-id-1 div.sk-label label {font-family: monospace;font-weight: bold;display: inline-block;line-height: 1.2em;}#sk-container-id-1 div.sk-label-container {text-align: center;}#sk-container-id-1 div.sk-container {/* jupyter's `normalize.less` sets `[hidden] { display: none; }` but bootstrap.min.css set `[hidden] { display: none !important; }` so we also need the `!important` here to be able to override the default hidden behavior on the sphinx rendered scikit-learn.org. See: https://github.com/scikit-learn/scikit-learn/issues/21755 */display: inline-block !important;position: relative;}#sk-container-id-1 div.sk-text-repr-fallback {display: none;}</style><div id=\"sk-container-id-1\" class=\"sk-top-container\"><div class=\"sk-text-repr-fallback\"><pre>LogisticRegression()</pre><b>In a Jupyter environment, please rerun this cell to show the HTML representation or trust the notebook. <br />On GitHub, the HTML representation is unable to render, please try loading this page with nbviewer.org.</b></div><div class=\"sk-container\" hidden><div class=\"sk-item\"><div class=\"sk-estimator sk-toggleable\"><input class=\"sk-toggleable__control sk-hidden--visually\" id=\"sk-estimator-id-1\" type=\"checkbox\" checked><label for=\"sk-estimator-id-1\" class=\"sk-toggleable__label sk-toggleable__label-arrow\">LogisticRegression</label><div class=\"sk-toggleable__content\"><pre>LogisticRegression()</pre></div></div></div></div></div>"
            ]
          },
          "metadata": {},
          "execution_count": 59
        }
      ]
    },
    {
      "cell_type": "markdown",
      "source": [
        "Değerlendirme Aşaması\n",
        "\n",
        "Evalution"
      ],
      "metadata": {
        "id": "fity2phXWhgc"
      }
    },
    {
      "cell_type": "code",
      "source": [
        "# Eğitim verisi üzerinde doğruluk değeri\n",
        "# Accuracy score on the training data\n",
        "X_train_prediction=model.predict(X_train)\n",
        "training_data_accuracy=accuracy_score(X_train_prediction,Y_train)\n",
        "# modelimizin ekstrem veriler üzerinde ve bu modeller üzerindeki etiketler üzerinde tahmin yapmasını istiyoruz.\n"
      ],
      "metadata": {
        "id": "heOpH1bqWLqk"
      },
      "execution_count": null,
      "outputs": []
    },
    {
      "cell_type": "code",
      "source": [
        "print(\"Eğitim verisinin doğruluk değeri:  \",training_data_accuracy)\n",
        "print(\"accuracy score of training data: \", training_data_accuracy)"
      ],
      "metadata": {
        "colab": {
          "base_uri": "https://localhost:8080/"
        },
        "id": "LlJkAMgOXu9q",
        "outputId": "e0e6d08c-5490-41d6-a58b-af2476dbaddc"
      },
      "execution_count": null,
      "outputs": [
        {
          "output_type": "stream",
          "name": "stdout",
          "text": [
            "Eğitim verisinin doğruluk değeri:   0.9865985576923076\n",
            "accuracy score of training data:  0.9865985576923076\n"
          ]
        }
      ]
    },
    {
      "cell_type": "markdown",
      "source": [
        "Örneğin birisi bir sınava çalışıyor. sınava çalışırken test kitaplarındaki soruları çözer ve sınavda çıkabilecek sorulara göre kendisini test eder. bu eğitim verilerinin doğruluğu olmuş oldu. Şimdi de sınava girdikten sonra alacağı sonuçları test etmek için test verilerini eğiteceğiz."
      ],
      "metadata": {
        "id": "vqUP9VbPZPZY"
      }
    },
    {
      "cell_type": "code",
      "source": [
        "X_test_prediction=model.predict(X_test)\n",
        "test_data_accuracy=accuracy_score(X_test_prediction,Y_test)"
      ],
      "metadata": {
        "id": "j6BBEhk8YXqE"
      },
      "execution_count": null,
      "outputs": []
    },
    {
      "cell_type": "code",
      "source": [
        "print(\"Test verisinin doğruluk değeri:  \",test_data_accuracy)\n",
        "print(\"accuracy score of test data: \", test_data_accuracy)"
      ],
      "metadata": {
        "colab": {
          "base_uri": "https://localhost:8080/"
        },
        "id": "dHYxypCiZ5zC",
        "outputId": "a486b2d5-a404-4917-8a15-63d9c925a666"
      },
      "execution_count": null,
      "outputs": [
        {
          "output_type": "stream",
          "name": "stdout",
          "text": [
            "Test verisinin doğruluk değeri:   0.9790865384615385\n",
            "accuracy score of test data:  0.9790865384615385\n"
          ]
        }
      ]
    },
    {
      "cell_type": "markdown",
      "source": [
        "Modelin eğitim verileri test verielrine çok yakın olduğu için aşırı öğrenme(overfitting) yapmıyor."
      ],
      "metadata": {
        "id": "MqKXIeRoaBl9"
      }
    },
    {
      "cell_type": "markdown",
      "source": [
        "Şimdi de bir tahminleme sistemi yapacağız.\n",
        "\n",
        "We will making to prediction system"
      ],
      "metadata": {
        "id": "_hdHv9fcaPQR"
      }
    },
    {
      "cell_type": "code",
      "source": [
        "X_new= X_test[1]\n",
        "prediction= model.predict(X_new)\n",
        "print(prediction)\n",
        "if (prediction[0]==0):\n",
        "  print(\"This news is Real\")\n",
        "else:\n",
        "  print(\"This news is Fake\")\n"
      ],
      "metadata": {
        "colab": {
          "base_uri": "https://localhost:8080/"
        },
        "id": "UDh1mRpxaTTL",
        "outputId": "4599a968-ab50-4d8c-ff72-8cc4b21e9c9e"
      },
      "execution_count": null,
      "outputs": [
        {
          "output_type": "stream",
          "name": "stdout",
          "text": [
            "[0]\n",
            "This news is Real\n"
          ]
        }
      ]
    },
    {
      "cell_type": "code",
      "source": [
        "if (Y_test[0]==1):\n",
        "  print(\"This news is Real\")\n",
        "else:\n",
        "  print(\"This news is Fake\")"
      ],
      "metadata": {
        "colab": {
          "base_uri": "https://localhost:8080/"
        },
        "id": "diguVqB1bPj2",
        "outputId": "8815d4ad-a176-4ba7-deca-8b47269e088b"
      },
      "execution_count": null,
      "outputs": [
        {
          "output_type": "stream",
          "name": "stdout",
          "text": [
            "This news is Real\n"
          ]
        }
      ]
    },
    {
      "cell_type": "markdown",
      "source": [
        "Burada gidiğimiz haber test edilen X verilerinin ilk karekteri oldu. Burada X_new değeri tahmin değerine atıldı ve koşul içinde gerçek mi sahte mi olduğu sorgulandı  ve sahte denildi\n",
        "\n",
        "print(Y_test[0]) ile de baktığımızda haber sahte olduğu söylenmişti. bu sebeple tahminleme sistemimiz doğru çalıştığını gördük."
      ],
      "metadata": {
        "id": "GftzzZlPbXB9"
      }
    },
    {
      "cell_type": "code",
      "source": [],
      "metadata": {
        "id": "AQ3YHPBXbugH"
      },
      "execution_count": null,
      "outputs": []
    }
  ]
}